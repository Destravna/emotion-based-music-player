{
 "cells": [
  {
   "cell_type": "code",
   "execution_count": 1,
   "metadata": {},
   "outputs": [],
   "source": [
    "from fer import FER\n",
    "import cv2"
   ]
  },
  {
   "cell_type": "code",
   "execution_count": 55,
   "metadata": {},
   "outputs": [
    {
     "name": "stdout",
     "output_type": "stream",
     "text": [
      "finding emotion of this person\n",
      "photos/newphoto.jpg\n",
      "[('disgust', 0.0), ('surprise', 0.01), ('happy', 0.04), ('fear', 0.05), ('sad', 0.1), ('angry', 0.34), ('neutral', 0.45)]\n",
      "{'emotion': 'angry', 'score': 0.34}\n"
     ]
    }
   ],
   "source": [
    "emotionDetector = FER(mtcnn=True)\n",
    "def detect_emotion(filename, emotionDetector):\n",
    "    print('finding emotion of this person')\n",
    "    # img_location = 'user_photos/' +  filename\n",
    "    img_location = filename\n",
    "    print(img_location)\n",
    "    image = cv2.imread(img_location)\n",
    "\n",
    "    emotion, score = emotionDetector.top_emotion(image)\n",
    "    if emotion == 'neutral' and score <= 0.77:\n",
    "        emotions = emotionDetector.detect_emotions(image)[0]['emotions']\n",
    "        sorted_emotions = sorted(emotions.items(), key=lambda x: x[1])\n",
    "\n",
    "        print(sorted_emotions)\n",
    "\n",
    "        emotion = sorted_emotions[len(sorted_emotions) - 2][0]\n",
    "        score = sorted_emotions[len(sorted_emotions) -2][1]\n",
    "        return {\n",
    "            'emotion' : emotion,\n",
    "            'score' : score\n",
    "        }\n",
    "\n",
    "    # print(emotion, score)\n",
    "    return {\n",
    "        'emotion' : emotion,\n",
    "        'score' : score\n",
    "    }\n",
    "\n",
    "\n",
    "# testImage = cv2.imread(\"photos/newphoto.jpg\")\n",
    "print(detect_emotion(\"photos/newphoto.jpg\", emotionDetector))\n",
    "# print(emotionDetector.detect_emotions(testImage))"
   ]
  },
  {
   "cell_type": "code",
   "execution_count": 49,
   "metadata": {},
   "outputs": [
    {
     "name": "stdout",
     "output_type": "stream",
     "text": [
      "finding emotion of this person\n",
      "photos/newphoto.jpg\n",
      "{'emotion': 'neutral', 'score': 0.45}\n"
     ]
    }
   ],
   "source": []
  },
  {
   "cell_type": "code",
   "execution_count": 4,
   "metadata": {},
   "outputs": [
    {
     "name": "stdout",
     "output_type": "stream",
     "text": [
      "neutral 0.97\n"
     ]
    }
   ],
   "source": [
    "emotion, score = emotionDetector.top_emotion(testImage)\n",
    "print(emotion, score)"
   ]
  }
 ],
 "metadata": {
  "kernelspec": {
   "display_name": "Python 3",
   "language": "python",
   "name": "python3"
  },
  "language_info": {
   "codemirror_mode": {
    "name": "ipython",
    "version": 3
   },
   "file_extension": ".py",
   "mimetype": "text/x-python",
   "name": "python",
   "nbconvert_exporter": "python",
   "pygments_lexer": "ipython3",
   "version": "3.11.4"
  }
 },
 "nbformat": 4,
 "nbformat_minor": 2
}
